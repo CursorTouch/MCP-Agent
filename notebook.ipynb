{
 "cells": [
  {
   "cell_type": "code",
   "execution_count": 26,
   "id": "3437cb82",
   "metadata": {},
   "outputs": [
    {
     "name": "stdout",
     "output_type": "stream",
     "text": [
      "Output:\n",
      " Windows PowerShell\n",
      "Copyright (C) Microsoft Corporation. All rights reserved.\n",
      "\n",
      "Install the latest PowerShell for new features and improvements! https://aka.ms/PSWindows\n",
      "\n",
      "PS D:\\Personal Projects\\MCP Agent> Write-Output 'Hello from PowerShell'\n",
      "Hello from PowerShell\n",
      "PS D:\\Personal Projects\\MCP Agent> Get-Location\n",
      "\n",
      "Path                          \n",
      "----                          \n",
      "D:\\Personal Projects\\MCP Agent\n",
      "\n",
      "\n",
      "PS D:\\Personal Projects\\MCP Agent> Get-Process | Select-Object -First 1\n",
      "\n",
      "Handles  NPM(K)    PM(K)      WS(K)     CPU(s)     Id  SI ProcessName                                                  \n",
      "-------  ------    -----      -----     ------     --  -- -----------                                                  \n",
      "    736      40    57792      18836      35.63  14388   2 AcPowerNotification                                          \n",
      "\n",
      "\n",
      "PS D:\\Personal Projects\\MCP Agent> exit\n",
      "\n",
      "Errors:\n",
      " \n"
     ]
    }
   ],
   "source": [
    "import subprocess\n",
    "\n",
    "# Launch PowerShell\n",
    "proc = subprocess.Popen(\n",
    "    [\"powershell.exe\"],\n",
    "    stdin=subprocess.PIPE,\n",
    "    stdout=subprocess.PIPE,\n",
    "    stderr=subprocess.PIPE,\n",
    "    text=True,\n",
    "    bufsize=1\n",
    ")\n",
    "\n",
    "# List of commands to run\n",
    "commands = [\n",
    "    \"Write-Output 'Hello from PowerShell'\",\n",
    "    \"Get-Location\",\n",
    "    \"Get-Process | Select-Object -First 1\",\n",
    "    \"exit\"  # Must include exit to close the shell\n",
    "]\n",
    "\n",
    "# Send commands\n",
    "for cmd in commands:\n",
    "    proc.stdin.write(cmd + '\\n')\n",
    "    proc.stdin.flush()\n",
    "\n",
    "# Read all output\n",
    "stdout, stderr = proc.communicate()\n",
    "print(\"Output:\\n\", stdout)\n",
    "print(\"Errors:\\n\", stderr)\n",
    "\n",
    "# Close the shell\n",
    "proc.stdin.close()\n",
    "proc.stdout.close()"
   ]
  }
 ],
 "metadata": {
  "kernelspec": {
   "display_name": ".venv",
   "language": "python",
   "name": "python3"
  },
  "language_info": {
   "codemirror_mode": {
    "name": "ipython",
    "version": 3
   },
   "file_extension": ".py",
   "mimetype": "text/x-python",
   "name": "python",
   "nbconvert_exporter": "python",
   "pygments_lexer": "ipython3",
   "version": "3.13.3"
  }
 },
 "nbformat": 4,
 "nbformat_minor": 5
}
